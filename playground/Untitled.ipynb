{
 "cells": [
  {
   "cell_type": "code",
   "execution_count": 1,
   "id": "d0b5afee-9340-45d8-be8f-3064c1278b98",
   "metadata": {},
   "outputs": [
    {
     "ename": "NameError",
     "evalue": "name 'python' is not defined",
     "output_type": "error",
     "traceback": [
      "\u001b[1;31m---------------------------------------------------------------------------\u001b[0m",
      "\u001b[1;31mNameError\u001b[0m                                 Traceback (most recent call last)",
      "\u001b[1;32m<ipython-input-1-a4637bbefc43>\u001b[0m in \u001b[0;36m<module>\u001b[1;34m\u001b[0m\n\u001b[1;32m----> 1\u001b[1;33m \u001b[0mpython\u001b[0m \u001b[1;33m-\u001b[0m\u001b[1;33m-\u001b[0m\u001b[0mversion\u001b[0m\u001b[1;33m\u001b[0m\u001b[1;33m\u001b[0m\u001b[0m\n\u001b[0m",
      "\u001b[1;31mNameError\u001b[0m: name 'python' is not defined"
     ]
    }
   ],
   "source": [
    "python --version"
   ]
  },
  {
   "cell_type": "code",
   "execution_count": 2,
   "id": "84f0f647-49fb-449c-94bf-6267cbd4b9cf",
   "metadata": {},
   "outputs": [],
   "source": [
    "import requests"
   ]
  },
  {
   "cell_type": "code",
   "execution_count": 3,
   "id": "02ea56aa-1dcd-497f-bf2c-b48724ea1278",
   "metadata": {},
   "outputs": [
    {
     "data": {
      "text/plain": [
       "'C:\\\\Python\\\\Python_Programming\\\\playground\\\\env\\\\Scripts\\x07ctivate.bat'"
      ]
     },
     "execution_count": 3,
     "metadata": {},
     "output_type": "execute_result"
    }
   ],
   "source": [
    "\"C:\\Python\\Python_Programming\\playground\\env\\Scripts\\activate.bat\""
   ]
  },
  {
   "cell_type": "code",
   "execution_count": 4,
   "id": "a473cf11-020b-4182-b965-4d9811d35a28",
   "metadata": {},
   "outputs": [
    {
     "ename": "SyntaxError",
     "evalue": "unexpected character after line continuation character (<ipython-input-4-27b9cbc195a6>, line 1)",
     "output_type": "error",
     "traceback": [
      "\u001b[1;36m  File \u001b[1;32m\"<ipython-input-4-27b9cbc195a6>\"\u001b[1;36m, line \u001b[1;32m1\u001b[0m\n\u001b[1;33m    C:\\Python\\Python_Programming\\playground\\env\\Scripts\\activate.bat\u001b[0m\n\u001b[1;37m                                                                   ^\u001b[0m\n\u001b[1;31mSyntaxError\u001b[0m\u001b[1;31m:\u001b[0m unexpected character after line continuation character\n"
     ]
    }
   ],
   "source": [
    "C:\\Python\\Python_Programming\\playground\\env\\Scripts\\activate.bat"
   ]
  },
  {
   "cell_type": "code",
   "execution_count": 5,
   "id": "0d0b9631-742b-49eb-826c-6184fa0b73cf",
   "metadata": {},
   "outputs": [
    {
     "name": "stdout",
     "output_type": "stream",
     "text": [
      "C:\\Python\\Python_Programming\\playground\\env\\Scripts\n"
     ]
    }
   ],
   "source": [
    "cd C:\\Python\\Python_Programming\\playground\\env\\Scripts"
   ]
  },
  {
   "cell_type": "code",
   "execution_count": 8,
   "id": "b1e04fbd-0bb6-4a44-9de4-43b8c74858fa",
   "metadata": {},
   "outputs": [
    {
     "data": {
      "text/plain": [
       "'activate.bat'"
      ]
     },
     "execution_count": 8,
     "metadata": {},
     "output_type": "execute_result"
    }
   ],
   "source": [
    "\"activate.bat\""
   ]
  },
  {
   "cell_type": "code",
   "execution_count": null,
   "id": "babc76c0-f3e3-4fa4-a04c-7349d231c2fa",
   "metadata": {},
   "outputs": [],
   "source": []
  }
 ],
 "metadata": {
  "kernelspec": {
   "display_name": "Python 3",
   "language": "python",
   "name": "python3"
  },
  "language_info": {
   "codemirror_mode": {
    "name": "ipython",
    "version": 3
   },
   "file_extension": ".py",
   "mimetype": "text/x-python",
   "name": "python",
   "nbconvert_exporter": "python",
   "pygments_lexer": "ipython3",
   "version": "3.9.5"
  }
 },
 "nbformat": 4,
 "nbformat_minor": 5
}
